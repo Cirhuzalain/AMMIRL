{
  "nbformat": 4,
  "nbformat_minor": 0,
  "metadata": {
    "kernelspec": {
      "display_name": "Python 3",
      "language": "python",
      "name": "python3"
    },
    "language_info": {
      "codemirror_mode": {
        "name": "ipython",
        "version": 3
      },
      "file_extension": ".py",
      "mimetype": "text/x-python",
      "name": "python",
      "nbconvert_exporter": "python",
      "pygments_lexer": "ipython3",
      "version": "3.8.1"
    },
    "colab": {
      "name": "AMMI RL - Exploration - Mountain Car.ipynb",
      "provenance": [],
      "collapsed_sections": [],
      "toc_visible": true
    }
  },
  "cells": [
    {
      "cell_type": "code",
      "metadata": {
        "id": "780D9u4ZZxWo",
        "colab_type": "code",
        "colab": {}
      },
      "source": [
        "!pip install gym > /dev/null 2>&1"
      ],
      "execution_count": 0,
      "outputs": []
    },
    {
      "cell_type": "code",
      "metadata": {
        "id": "x20JG4VuaEND",
        "colab_type": "code",
        "colab": {}
      },
      "source": [
        "!pip install gym pyvirtualdisplay > /dev/null 2>&1\n",
        "!apt-get install -y xvfb python-opengl ffmpeg > /dev/null 2>&1"
      ],
      "execution_count": 0,
      "outputs": []
    },
    {
      "cell_type": "code",
      "metadata": {
        "id": "E46IaY_5aEtf",
        "colab_type": "code",
        "outputId": "e49a520e-8606-4bb9-ec34-2944abf9bf38",
        "colab": {
          "base_uri": "https://localhost:8080/",
          "height": 34
        }
      },
      "source": [
        "!apt-get update > /dev/null 2>&1\n",
        "!apt-get install cmake > /dev/null 2>&1\n",
        "!pip install --upgrade setuptools 2>&1\n",
        "!pip install ez_setup > /dev/null 2>&1"
      ],
      "execution_count": 0,
      "outputs": [
        {
          "output_type": "stream",
          "text": [
            "Requirement already up-to-date: setuptools in /usr/local/lib/python3.6/dist-packages (45.2.0)\n"
          ],
          "name": "stdout"
        }
      ]
    },
    {
      "cell_type": "code",
      "metadata": {
        "id": "_UWM-gGi76pF",
        "colab_type": "code",
        "colab": {}
      },
      "source": [
        "!git clone https://github.com/rlgammazero/mvarl_hands_on.git > /dev/null 2>&1"
      ],
      "execution_count": 0,
      "outputs": []
    },
    {
      "cell_type": "code",
      "metadata": {
        "id": "J5EbzJ1A78Bk",
        "colab_type": "code",
        "colab": {}
      },
      "source": [
        "import sys\n",
        "sys.path.insert(0, './mvarl_hands_on/utils')"
      ],
      "execution_count": 0,
      "outputs": []
    },
    {
      "cell_type": "code",
      "metadata": {
        "id": "KDPYhYvR7yKZ",
        "colab_type": "code",
        "colab": {}
      },
      "source": [
        "import numpy as np\n",
        "import cvxpy as cp\n",
        "import matplotlib.pyplot as plt\n",
        "%matplotlib inline\n",
        "\n",
        "import gym\n",
        "from gym import logger as gymlogger\n",
        "from gym.wrappers import Monitor\n",
        "gymlogger.set_level(40) #error only\n",
        "\n",
        "import seaborn as sns\n",
        "from pyvirtualdisplay import Display\n",
        "from IPython import display as ipythondisplay\n",
        "from IPython.display import clear_output\n",
        "from pathlib import Path\n",
        "\n",
        "import random, os.path, math, glob, csv, base64, itertools, sys\n",
        "from pprint import pprint\n",
        "\n",
        "import matplotlib\n",
        "import matplotlib.pyplot as plt\n",
        "%matplotlib inline\n",
        "import io\n",
        "from IPython.display import HTML\n",
        "\n",
        "from copy import deepcopy"
      ],
      "execution_count": 0,
      "outputs": []
    },
    {
      "cell_type": "markdown",
      "metadata": {
        "id": "S5twn7Qv7yKf",
        "colab_type": "text"
      },
      "source": [
        "# Discretization of the state space"
      ]
    },
    {
      "cell_type": "code",
      "metadata": {
        "id": "f3WTC2o2coW_",
        "colab_type": "code",
        "colab": {}
      },
      "source": [
        "from discretization import Discretizer\n",
        "\n",
        "class DiscretizedMountainCar(gym.Wrapper):\n",
        "    def __init__(self, n_bins):\n",
        "        env_id = 'MountainCar-v0' \n",
        "        env = gym.make(env_id)\n",
        "        self.env = env\n",
        "        super().__init__(env)\n",
        "        self.min_reward = -1.0\n",
        "        self.max_reward = 0.0\n",
        "\n",
        "        LM = env.observation_space.low\n",
        "        HM = env.observation_space.high\n",
        "        D = len(HM)\n",
        "\n",
        "        bins = []\n",
        "        for i in range(D):\n",
        "            V = np.linspace(LM[i], HM[i], n_bins)\n",
        "            bins.append(V[1:-1])\n",
        "        self.grid = Discretizer(bins=bins)\n",
        "\n",
        "        # Number of states\n",
        "        self.S = self.grid.n_bins()\n",
        "        # Number of actions\n",
        "        self.A = self.env.action_space.n\n",
        "\n",
        "    def step(self, action):\n",
        "        next_state, reward, done, info = self.env.step(action)\n",
        "        reward = (reward - self.min_reward) / (self.max_reward - self.min_reward)\n",
        "        if done:\n",
        "            next_state = self.env.reset()\n",
        "            reward = 1.0\n",
        "        done = False \n",
        "        next_state = self.grid.dpos(next_state)\n",
        "        return next_state, reward, done, info\n",
        "\n",
        "    def reset(self):\n",
        "        state = self.env.reset()\n",
        "        state = self.grid.dpos(state)\n",
        "        return state\n",
        "\n",
        "# Environment\n",
        "n_bins = 10\n",
        "env = DiscretizedMountainCar(n_bins)\n",
        "\n",
        "# Horizon\n",
        "H = 180"
      ],
      "execution_count": 0,
      "outputs": []
    },
    {
      "cell_type": "code",
      "metadata": {
        "id": "7l8433mz7yKh",
        "colab_type": "code",
        "colab": {}
      },
      "source": [
        ""
      ],
      "execution_count": 0,
      "outputs": []
    },
    {
      "cell_type": "markdown",
      "metadata": {
        "id": "hiXHdYle7yKm",
        "colab_type": "text"
      },
      "source": [
        "# Backward induction (aka Value Iteration)"
      ]
    },
    {
      "cell_type": "code",
      "metadata": {
        "id": "Q_KZXn8A7yKo",
        "colab_type": "code",
        "colab": {}
      },
      "source": [
        "def backward_induction(P, R, H):\n",
        "    \"\"\"\n",
        "        Parameters:\n",
        "            P: transition function (S,A,S)-dim matrix\n",
        "            R: reward function (S,A)-dim matrix\n",
        "            H: horizon\n",
        "\n",
        "        Returns:\n",
        "            The optimal V-function: array of shape (horizon, S)\n",
        "            The optimal policy\n",
        "        \n",
        "        V[h, s]\n",
        "    \"\"\"\n",
        "    S, A = P.shape[0], P.shape[1]\n",
        "    policy = np.zeros((H, S), dtype=np.int)\n",
        "    V = np.zeros((H + 1, S))\n",
        "    for h in reversed(range(H)):\n",
        "        for s in range(S):\n",
        "            \"\"\" \n",
        "            Here, we compute V^*(h, s) using the Bellman optimality equation:\n",
        "\n",
        "            V[h, s] = max_a  R[s, a] + sum_{s'} P[s, a, s']*V[h+1, s']\n",
        "            \"\"\"\n",
        "            for a in range(A):\n",
        "                tmp = R[s, a] + np.dot(P[s, a],  V[h + 1])\n",
        "                if (a == 0) or (tmp > V[h, s]):\n",
        "                    policy[h, s] = a\n",
        "                    V[h, s] = tmp\n",
        "    return V, policy"
      ],
      "execution_count": 0,
      "outputs": []
    },
    {
      "cell_type": "markdown",
      "metadata": {
        "id": "pvmhRCN07yKs",
        "colab_type": "text"
      },
      "source": [
        "Compute solution"
      ]
    },
    {
      "cell_type": "markdown",
      "metadata": {
        "id": "v1nCGWuw7yKy",
        "colab_type": "text"
      },
      "source": [
        "## UCBVI (UCRL with exploration bonus)"
      ]
    },
    {
      "cell_type": "code",
      "metadata": {
        "id": "pk0v7jg67yK7",
        "colab_type": "code",
        "colab": {}
      },
      "source": [
        "def UCRL(mdp, H, nb_episodes, VSTAR=0, scale_factor = 2.0):\n",
        "    S, A = mdp.S, mdp.A\n",
        "    policy = np.zeros((H, S), dtype=np.int)\n",
        "    Phat = np.ones((S,A,S)) / S\n",
        "    Rhat = np.zeros((S,A))\n",
        "    N_sas = np.zeros((S,A,S), dtype=np.int)\n",
        "    N_sa = np.zeros((S,A), dtype=np.int)\n",
        "    episode_rewards = np.zeros((nb_episodes,))\n",
        "  \n",
        "    V = H*np.ones((H + 1, S))\n",
        "    V[H, :] = 0\n",
        "\n",
        "    S_sa = np.zeros((S,A)) \n",
        "    for k in range(nb_episodes):\n",
        "        sum_rewards = 0\n",
        "        # run optimistic value iteration\n",
        "        V.fill(0)\n",
        "        for h in reversed(range(H)):\n",
        "            for s in range(S):\n",
        "                temp = np.zeros(A)\n",
        "                for a in range(A):\n",
        "                    nn = N_sa[s, a] + 1\n",
        "                    bonus = scale_factor*np.sqrt(1.0/nn)\n",
        "                    temp[a] = Rhat[s, a] + Phat[s, a].dot(V[h + 1]) + bonus\n",
        "\n",
        "                V[h, s] = min(H-h, temp.max())\n",
        "                policy[h, s] = temp.argmax()\n",
        "        # execute policy\n",
        "        initial_state = state = mdp.reset()\n",
        "        for h in range(H):\n",
        "            action = policy[h][state]\n",
        "            next_state, reward, done, _ = mdp.step(action)\n",
        "\n",
        "            sum_rewards += reward\n",
        "            \n",
        "            # update estimates (Phat, Rhat, N_sa, N_sas)\n",
        "            N_sa[state, action] += 1\n",
        "            N_sas[state, action, next_state] +=1\n",
        "            S_sa[state, action] += reward\n",
        "            \n",
        "            Rhat[state, action] = S_sa[state, action]/N_sa[state, action]\n",
        "            Phat[state, action, :] = N_sas[state, action, :]/N_sa[state, action]\n",
        "\n",
        "            \n",
        "            state = next_state\n",
        "        \n",
        "        # update regret\n",
        "        episode_rewards[k] = sum_rewards\n",
        "        \n",
        "        if k % 5 == 0 or k==1:\n",
        "            print(\"rewards[{}]: {}\".format(k, episode_rewards[k]), end = \", \")\n",
        "            print(\"Number of visited states: \", (N_sa.sum(axis=1) > 0).sum() )\n",
        "            # print(V[0, :])\n",
        "\n",
        "    return episode_rewards, N_sa, Rhat, Phat, policy"
      ],
      "execution_count": 0,
      "outputs": []
    },
    {
      "cell_type": "code",
      "metadata": {
        "id": "0-UTr3Gq7yK_",
        "colab_type": "code",
        "outputId": "35c36c01-c29f-4371-c7dd-ff4ece3ac185",
        "colab": {
          "base_uri": "https://localhost:8080/",
          "height": 221
        }
      },
      "source": [
        "nb_repetitions = 1\n",
        "nb_episodes = 50\n",
        "rewards = np.zeros((nb_repetitions, nb_episodes))\n",
        "for it in range(nb_repetitions):\n",
        "    print(\"Running simulation: {}\".format(it))\n",
        "    rewards[it], N_sa, Rhat, Phat, policy = UCRL(mdp=env, H=H, nb_episodes=nb_episodes)"
      ],
      "execution_count": 0,
      "outputs": [
        {
          "output_type": "stream",
          "text": [
            "Running simulation: 0\n",
            "rewards[0]: 0.0, Number of visited states:  4\n",
            "rewards[1]: 0.0, Number of visited states:  4\n",
            "rewards[5]: 0.0, Number of visited states:  9\n",
            "rewards[10]: 0.0, Number of visited states:  30\n",
            "rewards[15]: 0.0, Number of visited states:  40\n",
            "rewards[20]: 0.0, Number of visited states:  48\n",
            "rewards[25]: 0.0, Number of visited states:  55\n",
            "rewards[30]: 1.0, Number of visited states:  57\n",
            "rewards[35]: 0.0, Number of visited states:  58\n",
            "rewards[40]: 1.0, Number of visited states:  60\n",
            "rewards[45]: 0.0, Number of visited states:  60\n"
          ],
          "name": "stdout"
        }
      ]
    },
    {
      "cell_type": "code",
      "metadata": {
        "id": "defhQH1NNQUD",
        "colab_type": "code",
        "outputId": "739f8161-ddb4-48e7-d1ff-9217ffb8cf7d",
        "colab": {
          "base_uri": "https://localhost:8080/",
          "height": 282
        }
      },
      "source": [
        "plt.plot(np.cumsum(rewards), label=\"Sum of rewards:\")\n",
        "plt.legend()"
      ],
      "execution_count": 0,
      "outputs": [
        {
          "output_type": "execute_result",
          "data": {
            "text/plain": [
              "<matplotlib.legend.Legend at 0x7f32aa487e48>"
            ]
          },
          "metadata": {
            "tags": []
          },
          "execution_count": 38
        },
        {
          "output_type": "display_data",
          "data": {
            "image/png": "[encoded data removed]",
            "text/plain": [
              "<Figure size 432x288 with 1 Axes>"
            ]
          },
          "metadata": {
            "tags": []
          }
        }
      ]
    },
    {
      "cell_type": "code",
      "metadata": {
        "id": "uhDoPAA5YCLJ",
        "colab_type": "code",
        "outputId": "4f0d15ed-3099-47c9-9590-d1b2e768acfa",
        "colab": {
          "base_uri": "https://localhost:8080/",
          "height": 438
        }
      },
      "source": [
        "# The following code is will be used to visualize the environments.\n",
        "def show_video(directory):\n",
        "    html = []\n",
        "    for mp4 in Path(directory).glob(\"*.mp4\"):\n",
        "        video_b64 = base64.b64encode(mp4.read_bytes())\n",
        "        html.append('''<video alt=\"{}\" autoplay \n",
        "                      loop controls style=\"height: 400px;\">\n",
        "                      <source src=\"data:video/mp4;base64,{}\" type=\"video/mp4\" />\n",
        "                 </video>'''.format(mp4, video_b64.decode('ascii')))\n",
        "    ipythondisplay.display(ipythondisplay.HTML(data=\"<br>\".join(html)))\n",
        "    \n",
        "def make_seed(seed):\n",
        "    np.random.seed(seed=seed)\n",
        "    torch.manual_seed(seed=seed)\n",
        "  \n",
        "from pyvirtualdisplay import Display\n",
        "display = Display(visible=0, size=(1400, 900))\n",
        "display.start()\n",
        "\n",
        "env = Monitor(env, \"./gym-results\", force=True, video_callable=lambda episode: True)\n",
        "\n",
        "state = env.reset()\n",
        "for hh in range(H): \n",
        "    action = policy[hh, state]\n",
        "    state, reward, done, info = env.step(action)\n",
        "env.close()\n",
        "show_video(\"./gym-results\")"
      ],
      "execution_count": 0,
      "outputs": [
        {
          "output_type": "stream",
          "text": [
            "xdpyinfo was not found, X start can not be checked! Please install xdpyinfo!\n"
          ],
          "name": "stderr"
        },
        {
          "output_type": "display_data",
          "data": {
            "text/html": [
              "<video alt=\"gym-results/openaigym.video.11.886.video000000.mp4\" autoplay \n",
              "                      loop controls style=\"height: 400px;\">\n",
              "                      <source src=\"data:video/mp4;base64,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\" type=\"video/mp4\" />\n",
              "                 </video>"
            ],
            "text/plain": [
              "<IPython.core.display.HTML object>"
            ]
          },
          "metadata": {
            "tags": []
          }
        }
      ]
    },
    {
      "cell_type": "code",
      "metadata": {
        "id": "6xirstixiCrm",
        "colab_type": "code",
        "colab": {}
      },
      "source": [
        ""
      ],
      "execution_count": 0,
      "outputs": []
    }
  ]
}