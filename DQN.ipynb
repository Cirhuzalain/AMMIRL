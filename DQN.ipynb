{
  "nbformat": 4,
  "nbformat_minor": 0,
  "metadata": {
    "kernelspec": {
      "display_name": "Python 3",
      "language": "python",
      "name": "python3"
    },
    "language_info": {
      "codemirror_mode": {
        "name": "ipython",
        "version": 3
      },
      "file_extension": ".py",
      "mimetype": "text/x-python",
      "name": "python",
      "nbconvert_exporter": "python",
      "pygments_lexer": "ipython3",
      "version": "3.7.5"
    },
    "colab": {
      "name": "Alain of DQN.ipynb",
      "provenance": [],
      "collapsed_sections": [],
      "toc_visible": true
    }
  },
  "cells": [
    {
      "cell_type": "markdown",
      "metadata": {
        "id": "i3fxLQBlgeg1",
        "colab_type": "text"
      },
      "source": [
        "## Colab setup"
      ]
    },
    {
      "cell_type": "code",
      "metadata": {
        "id": "B6JkETDngeg3",
        "colab_type": "code",
        "colab": {}
      },
      "source": [
        "!pip install gym > /dev/null 2>&1"
      ],
      "execution_count": 0,
      "outputs": []
    },
    {
      "cell_type": "code",
      "metadata": {
        "id": "2s0TFMH_geg9",
        "colab_type": "code",
        "colab": {}
      },
      "source": [
        "!pip install gym pyvirtualdisplay > /dev/null 2>&1\n",
        "!apt-get install -y xvfb python-opengl ffmpeg > /dev/null 2>&1"
      ],
      "execution_count": 0,
      "outputs": []
    },
    {
      "cell_type": "code",
      "metadata": {
        "id": "MwiNr6CSgehC",
        "colab_type": "code",
        "outputId": "c3450330-f145-411e-b8be-5be78003ca43",
        "colab": {
          "base_uri": "https://localhost:8080/",
          "height": 34
        }
      },
      "source": [
        "!apt-get update > /dev/null 2>&1\n",
        "!apt-get install cmake > /dev/null 2>&1\n",
        "!pip install --upgrade setuptools 2>&1\n",
        "!pip install ez_setup > /dev/null 2>&1"
      ],
      "execution_count": 0,
      "outputs": [
        {
          "output_type": "stream",
          "text": [
            "Requirement already up-to-date: setuptools in /usr/local/lib/python3.6/dist-packages (45.2.0)\n"
          ],
          "name": "stdout"
        }
      ]
    },
    {
      "cell_type": "markdown",
      "metadata": {
        "id": "LiCrf77wgehG",
        "colab_type": "text"
      },
      "source": [
        "# Deep Q-Learning (DQN)\n",
        "\n",
        "\n",
        "In DQN, the $Q$-function is parameterized by a neural network of parameters $\\theta$. The network takes as input a state $s$ and outputs $Q(s, a, \\theta)$ for all actions $a$. \n",
        "\n",
        "The network is trained in way that is similar to Fitted Q Iteration. At each time $T$, the agent has observed the transitions $(s_t, a_t, r_t, s_t')_{t=1}^T$, which are stored in a __replay buffer__.\n",
        "\n",
        "In addition to the network with parameters $\\theta$, DQN keeps another network with the same architecture and parameters $\\tilde{\\theta}$, called __target network__. \n",
        "To update the parameters $\\theta$, we sample $N$ transitions from the __replay buffer__, we define the loss \n",
        "\n",
        "$$\n",
        "L(\\theta) = \\sum_{i=1}^N [Q(s_i, a_i, \\theta) - (r_i + \\gamma\\max_{a'}Q(s'_i,a', \\tilde{\\theta}))]^2\n",
        "$$\n",
        "\n",
        "and update \n",
        "\n",
        "$$\n",
        "\\theta \\gets \\theta + \\eta \\nabla L(\\theta).\n",
        "$$\n",
        "\n",
        "\n",
        "Every $C$ iterations, the target network is updated as $\\tilde{\\theta} \\gets \\theta$. \n",
        "\n",
        "At each time $t$, DQN updates the networks as described above, selects an action according to an $\\epsilon$-greedy policy, plays the action and stores the new data in the replay buffer."
      ]
    },
    {
      "cell_type": "code",
      "metadata": {
        "id": "cHCvGPmDgehH",
        "colab_type": "code",
        "colab": {}
      },
      "source": [
        "# Imports\n",
        "import torch\n",
        "import torch.nn as nn\n",
        "import torch.nn.functional as F\n",
        "import torch.optim as optim\n",
        "import numpy as np\n",
        "import random\n",
        "from copy import deepcopy\n",
        "\n",
        "import gym\n",
        "from gym import logger as gymlogger\n",
        "from gym.wrappers import Monitor\n",
        "gymlogger.set_level(40) #error only\n",
        "\n",
        "from pyvirtualdisplay import Display\n",
        "from IPython import display as ipythondisplay\n",
        "from IPython.display import clear_output\n",
        "from pathlib import Path\n",
        "\n",
        "import random, os.path, math, glob, csv, base64, itertools, sys\n",
        "from pprint import pprint\n",
        "\n",
        "import matplotlib\n",
        "import matplotlib.pyplot as plt\n",
        "%matplotlib inline\n",
        "import io\n",
        "from IPython.display import HTML"
      ],
      "execution_count": 0,
      "outputs": []
    },
    {
      "cell_type": "markdown",
      "metadata": {
        "id": "ym7zhy2lgehM",
        "colab_type": "text"
      },
      "source": [
        "## Step 1: Define the parameters"
      ]
    },
    {
      "cell_type": "code",
      "metadata": {
        "id": "7bdJkSySgehN",
        "colab_type": "code",
        "colab": {}
      },
      "source": [
        "# Environment\n",
        "env = gym.make(\"CartPole-v0\")\n",
        "\n",
        "# Discount factor\n",
        "GAMMA = 0.99\n",
        "\n",
        "# Batch size\n",
        "BATCH_SIZE = 200\n",
        "# Capacity of the replay buffer\n",
        "BUFFER_CAPACITY = 10000\n",
        "# Update target net every ... episodes\n",
        "UPDATE_TARGET_EVERY = 20\n",
        "\n",
        "# Initial value of epsilon\n",
        "EPSILON_START = 1.0\n",
        "# Parameter to decrease epsilon\n",
        "DECREASE_EPSILON = 200\n",
        "# Minimum value of epislon\n",
        "EPSILON_MIN = 0.05\n",
        "\n",
        "# Number of training episodes\n",
        "N_EPISODES = 200\n",
        "\n",
        "# Learning rate\n",
        "LEARNING_RATE = 0.1"
      ],
      "execution_count": 0,
      "outputs": []
    },
    {
      "cell_type": "markdown",
      "metadata": {
        "id": "Jc8cKKOAgehS",
        "colab_type": "text"
      },
      "source": [
        "## Step 2: Define the replay buffer"
      ]
    },
    {
      "cell_type": "code",
      "metadata": {
        "id": "p1xDjsI-gehT",
        "colab_type": "code",
        "colab": {}
      },
      "source": [
        "class ReplayBuffer:\n",
        "    def __init__(self, capacity):\n",
        "        self.capacity = capacity\n",
        "        self.memory = []\n",
        "        self.position = 0\n",
        "\n",
        "    def push(self, state, action, reward, next_state):\n",
        "        \"\"\"Saves a transition.\"\"\"\n",
        "        if len(self.memory) < self.capacity:\n",
        "            self.memory.append(None)\n",
        "        self.memory[self.position] = (state, action, reward, next_state)\n",
        "        self.position = (self.position + 1) % self.capacity\n",
        "\n",
        "    def sample(self, batch_size):\n",
        "        return random.sample(self.memory, batch_size)\n",
        "\n",
        "    def __len__(self):\n",
        "        return len(self.memory)"
      ],
      "execution_count": 0,
      "outputs": []
    },
    {
      "cell_type": "code",
      "metadata": {
        "id": "yAgTyOj5gehX",
        "colab_type": "code",
        "colab": {}
      },
      "source": [
        "# create instance of replay buffer\n",
        "replay_buffer = ReplayBuffer(BUFFER_CAPACITY)"
      ],
      "execution_count": 0,
      "outputs": []
    },
    {
      "cell_type": "markdown",
      "metadata": {
        "id": "kUNbPpHqgehb",
        "colab_type": "text"
      },
      "source": [
        "## Step 3: Define the neural network architecture, objective and optimizer"
      ]
    },
    {
      "cell_type": "code",
      "metadata": {
        "id": "nBhEF_CMgehg",
        "colab_type": "code",
        "colab": {}
      },
      "source": [
        "class Net(nn.Module):\n",
        "    \"\"\"\n",
        "    Basic neural net.\n",
        "    \"\"\"\n",
        "    def __init__(self, obs_size, hidden_size, n_actions):\n",
        "        super(Net, self).__init__()\n",
        "        self.net = nn.Sequential(\n",
        "            nn.Linear(obs_size, hidden_size),\n",
        "            nn.ReLU(),\n",
        "            nn.Linear(hidden_size, n_actions)\n",
        "        )\n",
        "\n",
        "    def forward(self, x):\n",
        "        return self.net(x)"
      ],
      "execution_count": 0,
      "outputs": []
    },
    {
      "cell_type": "code",
      "metadata": {
        "id": "c5ZjKzragehk",
        "colab_type": "code",
        "colab": {}
      },
      "source": [
        "# create network and target network\n",
        "hidden_size = 128\n",
        "obs_size = env.observation_space.shape[0]\n",
        "n_actions = env.action_space.n\n",
        "\n",
        "q_net = Net(obs_size, hidden_size, n_actions)\n",
        "target_net = Net(obs_size, hidden_size, n_actions)\n",
        "\n",
        "# objective and optimizer\n",
        "objective = nn.MSELoss()\n",
        "optimizer = optim.Adam(params=q_net.parameters(), lr=LEARNING_RATE)"
      ],
      "execution_count": 0,
      "outputs": []
    },
    {
      "cell_type": "markdown",
      "metadata": {
        "id": "zkean_HGgeho",
        "colab_type": "text"
      },
      "source": [
        "## Step 4: Implement DQN"
      ]
    },
    {
      "cell_type": "code",
      "metadata": {
        "id": "eZ2IOKh-gehp",
        "colab_type": "code",
        "colab": {}
      },
      "source": [
        "#\n",
        "#  Some useful functions\n",
        "#\n",
        "def get_q(states):\n",
        "    \"\"\"\n",
        "    Compute Q function for a list of states\n",
        "    \"\"\"\n",
        "    with torch.no_grad():\n",
        "        states_v = torch.FloatTensor([states])\n",
        "        output = q_net.forward(states_v).data.numpy()  # shape (1, len(states), dim_state)\n",
        "    return output[0, :, :]  # shape (len(states), dim_state)\n",
        "\n",
        "def dqn_policy(s):\n",
        "    \"\"\"\n",
        "    Choose action at s using q_net\n",
        "    \"\"\"\n",
        "    if not isinstance(s, np.ndarray):\n",
        "        raise TypeError(\"Vector encoding expected for state variable.\")\n",
        "    q = get_q([s])[0]\n",
        "    return q.argmax()\n",
        "\n",
        "def eval_dqn(n_sim=5):\n",
        "    \"\"\"\n",
        "    Monte Carlo evaluation of DQN agent\n",
        "    \"\"\"\n",
        "    rewards = []\n",
        "    copy_env = deepcopy(env)\n",
        "    for sim in range(n_sim):\n",
        "        done = False\n",
        "        state = copy_env.reset()\n",
        "        sim_rewards = 0.0\n",
        "        while not done:\n",
        "            action = dqn_policy(state)\n",
        "            next_state, reward, done, _ = copy_env.step(action)\n",
        "            sim_rewards += reward\n",
        "            state = next_state\n",
        "        rewards.append(sim_rewards)\n",
        "    return rewards"
      ],
      "execution_count": 0,
      "outputs": []
    },
    {
      "cell_type": "code",
      "metadata": {
        "id": "FS6JULfrgehs",
        "colab_type": "code",
        "colab": {}
      },
      "source": [
        "def choose_action(state, epsilon):\n",
        "    \"\"\"\n",
        "    TO BE IMPLEMENTED\n",
        "    \n",
        "    Return action according to an epsilon-greedy exploration policy\n",
        "    \"\"\"\n",
        "    q_state = get_q([state])[0]\n",
        "    if np.random.uniform(0,1) < epsilon:\n",
        "      action = env.action_space.sample()\n",
        "    else:\n",
        "      action = q_state.argmax()\n",
        "    return action\n",
        "    \n",
        "\n",
        "def update(state, action, reward, next_state, done):\n",
        "    \"\"\"\n",
        "    TO BE COMPLETED\n",
        "    \"\"\"\n",
        "    \n",
        "    # add data to replay buffer\n",
        "    if done:\n",
        "        next_state = None\n",
        "    replay_buffer.push(state, action, reward, next_state)\n",
        "    \n",
        "    if len(replay_buffer) < BATCH_SIZE:\n",
        "        return np.inf\n",
        "    \n",
        "    # get batch\n",
        "    # transitions = list of (state,action, reward, next_state)\n",
        "    transitions = replay_buffer.sample(BATCH_SIZE)\n",
        "    \n",
        "    # Compute loss - TO BE IMPLEMENTED!\n",
        "    batch_states = torch.FloatTensor([transitions[ii][0] for ii in range(BATCH_SIZE)])\n",
        "\n",
        "    batch_actions = torch.LongTensor([transitions[ii][1] for ii in range(BATCH_SIZE)])\n",
        "\n",
        "    batch_rewards = torch.FloatTensor([transitions[ii][2] for ii in range(BATCH_SIZE)])\n",
        "\n",
        "    # handle the case where there's no next state\n",
        "    # batch_next_states = torch.zeros((BATCH_SIZE, obs_size))\n",
        "    non_final_mask = torch.tensor([(transitions[ii][3] is not None) for ii in range(BATCH_SIZE)], dtype=torch.bool) \n",
        "\n",
        "    non_final_next_states = torch.FloatTensor([transitions[ii][3]  for ii in range(BATCH_SIZE) if transitions[ii][3] is not None]) \n",
        "\n",
        "    next_state_values = torch.zeros(BATCH_SIZE)\n",
        "    next_state_values[non_final_mask] = target_net(non_final_next_states).max(1)[0].detach()\n",
        "\n",
        "    state_actions_values = q_net(batch_states).gather(1, batch_actions.view(-1, 1))\n",
        "\n",
        "    values  = state_actions_values   # to be computed using batch\n",
        "    targets = batch_rewards + GAMMA * next_state_values   # to be computed using batch\n",
        "    loss = objective(values, targets.unsqueeze(1))  \n",
        "     \n",
        "    # Optimize the model - UNCOMMENT!\n",
        "    optimizer.zero_grad()\n",
        "    loss.backward()\n",
        "    optimizer.step()\n",
        "    \n",
        "    return loss.data.numpy()"
      ],
      "execution_count": 0,
      "outputs": []
    },
    {
      "cell_type": "code",
      "metadata": {
        "id": "N7EOTbgHgehv",
        "colab_type": "code",
        "outputId": "9a467cba-f85a-4eb1-e389-4738927062ba",
        "colab": {
          "base_uri": "https://localhost:8080/",
          "height": 85
        }
      },
      "source": [
        "#\n",
        "# Train\n",
        "# \n",
        "\n",
        "EVAL_EVERY = 5\n",
        "REWARD_THRESHOLD = 199\n",
        "\n",
        "def train():\n",
        "    state = env.reset()\n",
        "    epsilon = EPSILON_START\n",
        "    ep = 0\n",
        "    total_time = 0\n",
        "    while ep < N_EPISODES:\n",
        "        action = choose_action(state, epsilon)\n",
        "\n",
        "        # take action and update replay buffer and networks\n",
        "        next_state, reward, done, _ = env.step(action)\n",
        "        loss = update(state, action, reward, next_state, done)\n",
        "\n",
        "        # update state\n",
        "        state = next_state\n",
        "\n",
        "        # end episode if done\n",
        "        if done:\n",
        "            state = env.reset()\n",
        "            ep   += 1\n",
        "            if ( (ep+1)% EVAL_EVERY == 0):\n",
        "                rewards = eval_dqn()\n",
        "                print(\"episode =\", ep+1, \", reward = \", np.mean(rewards))\n",
        "                if np.mean(rewards) >= REWARD_THRESHOLD:\n",
        "                    break\n",
        "\n",
        "            # update target network\n",
        "            if ep % UPDATE_TARGET_EVERY == 0:\n",
        "                target_net.load_state_dict(q_net.state_dict())\n",
        "            # decrease epsilon\n",
        "            epsilon = EPSILON_MIN + (EPSILON_START - EPSILON_MIN) * \\\n",
        "                            np.exp(-1. * ep / DECREASE_EPSILON )    \n",
        "\n",
        "        total_time += 1\n",
        "\n",
        "train()\n",
        "rewards = eval_dqn(20)\n",
        "print(\"\")\n",
        "print(\"mean reward after training = \", np.mean(rewards))"
      ],
      "execution_count": 0,
      "outputs": [
        {
          "output_type": "stream",
          "text": [
            "episode = 5 , reward =  188.6\n",
            "episode = 10 , reward =  200.0\n",
            "\n",
            "mean reward after training =  200.0\n"
          ],
          "name": "stdout"
        }
      ]
    },
    {
      "cell_type": "markdown",
      "metadata": {
        "id": "3hFr3s3egehz",
        "colab_type": "text"
      },
      "source": [
        "## Visualizing the agent"
      ]
    },
    {
      "cell_type": "code",
      "metadata": {
        "id": "9C_UqU5Vgeh0",
        "colab_type": "code",
        "outputId": "5540d559-3ba7-46de-d423-77587b88acbd",
        "colab": {
          "base_uri": "https://localhost:8080/",
          "height": 71
        }
      },
      "source": [
        "def show_video(directory):\n",
        "    html = []\n",
        "    for mp4 in Path(directory).glob(\"*.mp4\"):\n",
        "        video_b64 = base64.b64encode(mp4.read_bytes())\n",
        "        html.append('''<video alt=\"{}\" autoplay \n",
        "                      loop controls style=\"height: 400px;\">\n",
        "                      <source src=\"data:video/mp4;base64,{}\" type=\"video/mp4\" />\n",
        "                 </video>'''.format(mp4, video_b64.decode('ascii')))\n",
        "    ipythondisplay.display(ipythondisplay.HTML(data=\"<br>\".join(html)))\n",
        "    \n",
        "def make_seed(seed):\n",
        "    np.random.seed(seed=seed)\n",
        "    torch.manual_seed(seed=seed)\n",
        "  \n",
        "from pyvirtualdisplay import Display\n",
        "display = Display(visible=0, size=(1400, 900))\n",
        "display.start()"
      ],
      "execution_count": 0,
      "outputs": [
        {
          "output_type": "stream",
          "text": [
            "xdpyinfo was not found, X start can not be checked! Please install xdpyinfo!\n"
          ],
          "name": "stderr"
        },
        {
          "output_type": "execute_result",
          "data": {
            "text/plain": [
              "<Display cmd_param=['Xvfb', '-br', '-nolisten', 'tcp', '-screen', '0', '1400x900x24', ':1013'] cmd=['Xvfb', '-br', '-nolisten', 'tcp', '-screen', '0', '1400x900x24', ':1013'] oserror=None return_code=None stdout=\"None\" stderr=\"None\" timeout_happened=False>"
            ]
          },
          "metadata": {
            "tags": []
          },
          "execution_count": 71
        }
      ]
    },
    {
      "cell_type": "code",
      "metadata": {
        "id": "9flI19JTgeh4",
        "colab_type": "code",
        "outputId": "bce1dc3e-a9de-43b9-995f-d583bc0db34b",
        "colab": {
          "base_uri": "https://localhost:8080/",
          "height": 421
        }
      },
      "source": [
        "env = Monitor(env, \"./gym-results\", force=True, video_callable=lambda episode: True)\n",
        "for episode in range(1):\n",
        "    done = False\n",
        "    state = env.reset()\n",
        "    while not done:\n",
        "        action = dqn_policy(state)\n",
        "        state, reward, done, info = env.step(action)\n",
        "env.close()\n",
        "show_video(\"./gym-results\")"
      ],
      "execution_count": 0,
      "outputs": [
        {
          "output_type": "display_data",
          "data": {
            "text/html": [
              "<video alt=\"gym-results/openaigym.video.3.948.video000000.mp4\" autoplay \n",
              "                      loop controls style=\"height: 400px;\">\n",
              "                      <source src=\"data:video/mp4;base64,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\" type=\"video/mp4\" />\n",
              "                 </video>"
            ],
            "text/plain": [
              "<IPython.core.display.HTML object>"
            ]
          },
          "metadata": {
            "tags": []
          }
        }
      ]
    }
  ]
}