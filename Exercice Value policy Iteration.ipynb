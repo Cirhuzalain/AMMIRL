{
 "cells": [
  {
   "cell_type": "markdown",
   "metadata": {
    "colab_type": "text",
    "id": "QYW2YAMZOX4-"
   },
   "source": [
    "# Reinforcement Learning in Finite MDPs"
   ]
  },
  {
   "cell_type": "markdown",
   "metadata": {
    "colab_type": "text",
    "id": "AFu6XLHrtIa6"
   },
   "source": []
  },
  {
   "cell_type": "code",
   "execution_count": null,
   "metadata": {
    "colab": {
     "base_uri": "https://localhost:8080/",
     "height": 34
    },
    "colab_type": "code",
    "id": "8K4vLMPTSxmn",
    "outputId": "d99d3ba3-0894-45e0-ec93-c40df62331a9"
   },
   "outputs": [
    {
     "name": "stdout",
     "output_type": "stream",
     "text": [
      "Already up to date.\n"
     ]
    }
   ],
   "source": [
    "!git clone https://github.com/rlgammazero/mvarl_hands_on.git > /dev/null 2>&1\n",
    "!cd mvarl_hands_on && git pull"
   ]
  },
  {
   "cell_type": "markdown",
   "metadata": {
    "colab_type": "text",
    "id": "NNsuKZxeOX4_"
   },
   "source": [
    "## MDPs"
   ]
  },
  {
   "cell_type": "code",
   "execution_count": null,
   "metadata": {
    "colab": {},
    "colab_type": "code",
    "id": "bNlEnGsYOX5A"
   },
   "outputs": [],
   "source": [
    "import sys\n",
    "sys.path.insert(0, './mvarl_hands_on/utils')\n",
    "import numpy as np\n",
    "import matplotlib.pyplot as plt\n",
    "import json\n",
    "import math\n",
    "import copy\n",
    "from gridworld import GridWorldWithPits"
   ]
  },
  {
   "cell_type": "markdown",
   "metadata": {
    "colab_type": "text",
    "id": "puk7xD1EBDEu"
   },
   "source": [
    "## Define the environment"
   ]
  },
  {
   "cell_type": "code",
   "execution_count": null,
   "metadata": {
    "colab": {},
    "colab_type": "code",
    "id": "ezz31WR2uJFX"
   },
   "outputs": [],
   "source": [
    "from finite_env import FiniteEnv\n",
    "import numpy as np\n",
    "\n",
    "class RobotEnv(FiniteEnv):\n",
    "    \"\"\"\n",
    "    Enviroment with 2 states and 3 actions\n",
    "    Args:\n",
    "        gamma (float): discount factor\n",
    "        seed    (int): Random number generator seed\n",
    "    \"\"\"\n",
    "\n",
    "    def __init__(self, gamma=0.5, seed=42):\n",
    "        # Set seed\n",
    "        self.RS = np.random.RandomState(seed)\n",
    "\n",
    "        # Transition probabilities\n",
    "        # shape (Ns, Na, Ns)\n",
    "        # P[s, a, s'] = Prob(S_{t+1}=s'| S_t = s, A_t = a)\n",
    "\n",
    "        Ns = 2\n",
    "        Na = 3\n",
    "        \n",
    "        P = np.array([[[1, 0], [3/4, 1/4], [1, 0]], [[0,1],[1,0], [1,0]]])\n",
    "        self._R = np.array([[0,1,-0.5], [0, -1, 0]])\n",
    "\n",
    "        self.state_decoder  = {0: \"A\", 1: \"B\"}\n",
    "        self.action_decoder = {0: \"WAIT\", 1: \"SEARCH\", 2: \"RECHARGE\"}\n",
    "        \n",
    "        # Initialize base class\n",
    "        states = np.arange(Ns).tolist()\n",
    "        action_sets = [np.arange(Na).tolist()]*Ns\n",
    "        super().__init__(states, action_sets, P, gamma)\n",
    "\n",
    "    def reward_func(self, state, action, *_):\n",
    "        return self._R[state, action]\n",
    "\n",
    "    def reset(self, s=0):\n",
    "        self.state = s\n",
    "        return self.state\n",
    "\n",
    "    def step(self, action):\n",
    "        next_state = self.sample_transition(self.state, action)\n",
    "        reward = self.reward_func(self.state, action, next_state)\n",
    "        done = False\n",
    "        info = {\"str\" : \"In {} do {} arrive at {} get {}\".format(\n",
    "            self.state_decoder[state],\n",
    "            self.action_decoder[action],\n",
    "            self.state_decoder[next_state],\n",
    "            reward )}\n",
    "        self.state = next_state\n",
    "\n",
    "        observation = next_state\n",
    "        return observation, reward, done, info\n",
    "\n",
    "    def sample_transition(self, s, a):\n",
    "        prob = self.P[s,a,:]\n",
    "        s_ = self.RS.choice(self.states, p = prob)\n",
    "        return s_\n",
    "\n",
    "    def render_policy(self, policy):\n",
    "      if len(np.array(policy).shape) > 1:\n",
    "        policy = densify_policy(policy)\n",
    "\n",
    "      txt = \"\"\n",
    "      for i, a in enumerate(policy):\n",
    "        txt += \"In state {} perform {}\\n\".format(self.state_decoder[i], self.action_decoder[a])\n",
    "      return txt[:-1]\n",
    "\n",
    "    @property\n",
    "    def R(self):\n",
    "        return self._R\n",
    "  \n",
    "env = RobotEnv()"
   ]
  },
  {
   "cell_type": "markdown",
   "metadata": {
    "colab_type": "text",
    "id": "Hdzoq4dLOX5C"
   },
   "source": [
    "Setting up the environment"
   ]
  },
  {
   "cell_type": "code",
   "execution_count": null,
   "metadata": {
    "colab": {
     "base_uri": "https://localhost:8080/",
     "height": 357
    },
    "colab_type": "code",
    "id": "WVHOHJJeOX5C",
    "outputId": "08b9dda8-3e6f-400e-cc04-d9d67fb145e6"
   },
   "outputs": [
    {
     "name": "stdout",
     "output_type": "stream",
     "text": [
      "Set of states: [0, 1]\n",
      "Set of actions: [0, 1, 2]\n",
      "Number of states:  2\n",
      "Number of actions:  3\n",
      "P has shape:  (2, 3, 2)\n",
      "R has shape:  (2, 3)\n",
      "discount factor:  0.5\n",
      "\n",
      "initial state:  0\n",
      "reward at (s=0, a=1):  1.0\n",
      "\n",
      "random policy =  [2 2]\n",
      "In state A perform RECHARGE\n",
      "In state B perform RECHARGE\n",
      "(s, a, s', r):\n",
      "0 2 0 -0.5    --> In A do RECHARGE arrive at A get -0.5\n",
      "0 2 0 -0.5    --> In A do RECHARGE arrive at A get -0.5\n",
      "0 2 0 -0.5    --> In A do RECHARGE arrive at A get -0.5\n",
      "0 2 0 -0.5    --> In A do RECHARGE arrive at A get -0.5\n",
      "\n"
     ]
    }
   ],
   "source": [
    "# Useful attributes\n",
    "print(\"Set of states:\", env.states)\n",
    "print(\"Set of actions:\", env.actions)\n",
    "print(\"Number of states: \", env.Ns)\n",
    "print(\"Number of actions: \", env.Na)\n",
    "print(\"P has shape: \", env.P.shape)  # P[s'|s,a] = P[s, a, s'] = env.P[s, a, s']\n",
    "print(\"R has shape: \", env.R.shape)  \n",
    "print(\"discount factor: \", env.gamma)\n",
    "print(\"\")\n",
    "\n",
    "# Usefult methods\n",
    "state = env.reset() # get initial state\n",
    "print(\"initial state: \", state)\n",
    "print(\"reward at (s=0, a=1): \", env.reward_func(0,1))\n",
    "print(\"\")\n",
    "\n",
    "# A random policy\n",
    "policy = np.random.randint(env.Na, size = (env.Ns,))\n",
    "print(\"random policy = \", policy)\n",
    "print(env.render_policy(policy))\n",
    "\n",
    "# Interacting with the environment\n",
    "print(\"(s, a, s', r):\")\n",
    "for time in range(4):\n",
    "    action = policy[state]\n",
    "    next_state, reward, done, info = env.step(action)\n",
    "    print(state, action, next_state, reward, \"   --> \" + info[\"str\"] if \"str\" in info else \"\") \n",
    "    if done:\n",
    "        break\n",
    "    state = next_state\n",
    "print(\"\")\n"
   ]
  },
  {
   "cell_type": "markdown",
   "metadata": {
    "colab_type": "text",
    "id": "7YM7lLbRA68A"
   },
   "source": [
    "## Useful functions\n"
   ]
  },
  {
   "cell_type": "code",
   "execution_count": null,
   "metadata": {
    "colab": {},
    "colab_type": "code",
    "id": "sekFIFmm6V71"
   },
   "outputs": [],
   "source": [
    "def sparsify_policy(policy, Na):\n",
    "  ### Turn a dense policy into a sparse one.\n",
    "  #  Ex: [0, 1], Na=3  -> [[1, 0, 0], [0, 1, 0]]\n",
    "  ###\n",
    "\n",
    "  Ns = len(policy)\n",
    "  sparse_policy = np.zeros(shape=(Ns, Na))\n",
    "  for i, a in enumerate(policy):\n",
    "    sparse_policy[i,a]=1\n",
    "  return sparse_policy\n",
    "\n",
    "def densify_policy(policy):\n",
    "  ### Turn a sparse determinist policy into a dense one.\n",
    "  #  Ex: [[1, 0, 0], [0, 1, 0]] -> [0, 1]\n",
    "  ###\n",
    "  return np.array(policy).argmax(axis=1)\n"
   ]
  },
  {
   "cell_type": "markdown",
   "metadata": {
    "colab_type": "text",
    "id": "4dyTP0kkAXKo"
   },
   "source": [
    "## Exercice : Policy Evaluation\n",
    "1. Evaluate the policy by solving the linear system\n",
    "2. Evaluate the policy through recursion"
   ]
  },
  {
   "cell_type": "code",
   "execution_count": null,
   "metadata": {
    "colab": {
     "base_uri": "https://localhost:8080/",
     "height": 255
    },
    "colab_type": "code",
    "id": "1T0QX3tA2RRU",
    "outputId": "a8a88b02-6668-453a-a3a6-e1c4567615cd"
   },
   "outputs": [
    {
     "name": "stdout",
     "output_type": "stream",
     "text": [
      "## old pi:\n",
      "[[0. 1. 0.]\n",
      " [1. 0. 0.]]\n",
      "In state A perform SEARCH\n",
      "In state B perform WAIT\n",
      "## Vpi:  [1.6 0. ]\n",
      "## Qpi:\n",
      "[[ 0.8  1.6  0.3]\n",
      " [ 0.  -0.2  0.8]]\n",
      "## new pi:\n",
      "[[0. 1. 0.]\n",
      " [0. 0. 1.]]\n",
      "In state A perform SEARCH\n",
      "In state B perform RECHARGE\n"
     ]
    }
   ],
   "source": [
    "# Policy evaluation (exact)\n",
    "\n",
    "# Retrieve the environment MDP\n",
    "P = env.P\n",
    "R = env.R\n",
    "gamma = env.gamma\n",
    "\n",
    "\n",
    "# Policy to evaluate\n",
    "# State A: Search\n",
    "# State B: Wait\n",
    "dense_policy = np.array([1, 0])\n",
    "pi = sparsify_policy(dense_policy, Na=env.Na)\n",
    "print(\"## old pi:\")\n",
    "print(pi)\n",
    "print(env.render_policy(pi))\n",
    "\n",
    "\n",
    "# Compute the dynamics given the policy\n",
    "Ppi = np.sum(P* np.expand_dims(pi, axis=-1), axis=1)\n",
    "Rpi = np.sum(R* pi, axis=1)\n",
    "\n",
    "\n",
    "# Evaluate the policy\n",
    "Vpi = np.linalg.inv(np.identity(env.Ns) - gamma * Ppi).dot(Rpi)\n",
    "\n",
    "print(\"## Vpi: \", Vpi)\n",
    "\n",
    "\n",
    "# Compute the Q values\n",
    "Qpi = R + gamma * P.dot(Vpi)\n",
    "\n",
    "print(\"## Qpi:\")\n",
    "print(Qpi)\n",
    "\n",
    "\n",
    "# What is the next policy if we perform one step of policy improvment ?\n",
    "pi_new = Qpi.argmax(axis=1)\n",
    "\n",
    "print(\"## new pi:\")\n",
    "print(sparsify_policy(pi_new, Na=env.Na))\n",
    "print(env.render_policy(pi_new))"
   ]
  },
  {
   "cell_type": "code",
   "execution_count": null,
   "metadata": {
    "colab": {
     "base_uri": "https://localhost:8080/",
     "height": 408
    },
    "colab_type": "code",
    "id": "NZb0Piis2YX4",
    "outputId": "e5845cee-743a-470d-d887-865dfaa18825"
   },
   "outputs": [
    {
     "name": "stdout",
     "output_type": "stream",
     "text": [
      "0: [-1  1]\n",
      "0: [0.75 0.5 ]\n",
      "1: [1.34375 0.25   ]\n",
      "2: [1.53515625 0.125     ]\n",
      "3: [1.59130859 0.0625    ]\n",
      "4: [1.60455322 0.03125   ]\n",
      "5: [1.60561371 0.015625  ]\n",
      "6: [1.60405827 0.0078125 ]\n",
      "7: [1.60249841 0.00390625]\n",
      "8: [1.60142519 0.00195312]\n",
      "9: [1.60077859e+00 9.76562500e-04]\n",
      "\n",
      "0: [-1  1]\n",
      "1: [0.75 0.5 ]\n",
      "2: [1.34375 0.25   ]\n",
      "3: [1.53515625 0.125     ]\n",
      "4: [1.59130859 0.0625    ]\n",
      "5: [1.60455322 0.03125   ]\n",
      "6: [1.60561371 0.015625  ]\n",
      "7: [1.60405827 0.0078125 ]\n",
      "8: [1.60249841 0.00390625]\n",
      "9: [1.60142519 0.00195312]\n",
      "10: [1.60077859e+00 9.76562500e-04]\n"
     ]
    }
   ],
   "source": [
    "# Policy evaluation (recursive)\n",
    "\n",
    "# Retrieve the environment MDP\n",
    "P = env.P\n",
    "R = env.R\n",
    "gamma = env.gamma\n",
    "\n",
    "# Policy to evaluate\n",
    "dpi = np.array([1, 0])\n",
    "pi = sparsify_policy(dpi, Na=env.Na)\n",
    "\n",
    "# Compute the dynamics given the policy\n",
    "Ppi = np.sum(P * np.expand_dims(pi, axis=-1), axis=1)\n",
    "Rpi = np.sum(R * pi, axis=1) \n",
    "\n",
    "# Stopping criterion -> maximum number of steps\n",
    "epsilon = 1e-3\n",
    "r_max = np.max(R)\n",
    "max_k = int(np.log(r_max/epsilon)/np.log(1/gamma))+1\n",
    "\n",
    "v = np.array([-1, 1])\n",
    "print(\"0:\", v)\n",
    "for k in range(max_k):\n",
    "  v = Rpi + gamma*Ppi.dot(v)\n",
    "  print(\"{}:\".format(k), v)\n",
    "\n",
    "print()\n",
    "\n",
    "# Stopping criterion -> compute the infinite norm\n",
    "v_new = np.array([-1, 1])\n",
    "v_old = np.array([2*epsilon, 0])\n",
    "k = 1\n",
    "print(\"0:\", v_new)\n",
    "while np.absolute(v_new-v_old).max() > epsilon:\n",
    "  v_old = v_new\n",
    "  v_new = Rpi + gamma*Ppi.dot(v_new)\n",
    "  print(\"{}:\".format(k), v_new)\n",
    "  k += 1"
   ]
  },
  {
   "cell_type": "markdown",
   "metadata": {
    "colab_type": "text",
    "id": "u0nl8OfLwpdC"
   },
   "source": [
    "## New Environment!!!"
   ]
  },
  {
   "cell_type": "code",
   "execution_count": null,
   "metadata": {
    "colab": {},
    "colab_type": "code",
    "id": "qDjMyANRs8Z6"
   },
   "outputs": [],
   "source": [
    "# New Maze environment\n",
    "# s: start\n",
    "# g: goal\n",
    "# x: negative reward state\n",
    "\n",
    "grid1 = [\n",
    "    ['', '', '', 'g'],\n",
    "    ['', 'x', '', ''],\n",
    "    ['s', '', '', '']\n",
    "]\n",
    "grid1_MAP = [\n",
    "    \"+-------+\",\n",
    "    \"| : : :G|\",\n",
    "    \"| :x: : |\",\n",
    "    \"|S: : : |\",\n",
    "    \"+-------+\",\n",
    "]\n",
    "\n",
    "env = GridWorldWithPits(grid=grid1, txt_map=grid1_MAP, uniform_trans_proba=0)"
   ]
  },
  {
   "cell_type": "code",
   "execution_count": null,
   "metadata": {
    "colab": {
     "base_uri": "https://localhost:8080/",
     "height": 323
    },
    "colab_type": "code",
    "id": "GRUnx8EstjFY",
    "outputId": "cf6c4267-1e0b-42e9-f350-cbf1fed35195"
   },
   "outputs": [
    {
     "name": "stdout",
     "output_type": "stream",
     "text": [
      "Set of states: range(0, 12)\n",
      "Set of actions: [0, 1, 2, 3]\n",
      "Number of states:  12\n",
      "Number of actions:  4\n",
      "P has shape:  (12, 4, 12)\n",
      "R has shape:  (12, 4)\n",
      "discount factor:  0.99\n",
      "\n",
      "initial state:  8\n",
      "reward at (s=0, a=1,s'=1):  -2.0\n",
      "\n",
      "random policy =  [1 0 2 3 0 1 0 0 1 2 0 1]\n",
      "(s, a, s', r):\n",
      "8 1 8 -2.0\n",
      "8 1 8 -2.0\n",
      "8 1 8 -2.0\n",
      "8 1 8 -2.0\n",
      "\n"
     ]
    }
   ],
   "source": [
    "# Useful attributes\n",
    "print(\"Set of states:\", env.states)\n",
    "print(\"Set of actions:\", env.actions)\n",
    "print(\"Number of states: \", env.Ns)\n",
    "print(\"Number of actions: \", env.Na)\n",
    "print(\"P has shape: \", env.P.shape)  # P[s'|s,a] = P[s, a, s'] = env.P[s, a, s']\n",
    "print(\"R has shape: \", env.R.shape)  \n",
    "print(\"discount factor: \", env.gamma)\n",
    "print(\"\")\n",
    "\n",
    "# Usefult methods\n",
    "state = env.reset() # get initial state\n",
    "print(\"initial state: \", state)\n",
    "print(\"reward at (s=0, a=1,s'=1): \", env.reward_func(0,1,1))\n",
    "print(\"\")\n",
    "\n",
    "# A random policy\n",
    "dpi = np.random.randint(env.Na, size = (env.Ns,))\n",
    "print(\"random policy = \", dpi)\n",
    "\n",
    "# Interacting with the environment\n",
    "print(\"(s, a, s', r):\")\n",
    "for time in range(4):\n",
    "    action = dpi[state]\n",
    "    next_state, reward, done, info = env.step(action)\n",
    "    print(state, action, next_state, reward) \n",
    "    if done:\n",
    "        break\n",
    "    state = next_state\n",
    "print(\"\")"
   ]
  },
  {
   "cell_type": "code",
   "execution_count": null,
   "metadata": {
    "colab": {
     "base_uri": "https://localhost:8080/",
     "height": 714
    },
    "colab_type": "code",
    "id": "gsXJD1qF74Iy",
    "outputId": "760e4ac2-8eda-435a-ca73-5be20346b611"
   },
   "outputs": [
    {
     "name": "stdout",
     "output_type": "stream",
     "text": [
      "+-------+\n",
      "|<:>:^:v|\n",
      "|v:v:v:^|\n",
      "|>:>:<:v|\n",
      "+-------+\n",
      "+-------+\n",
      "| : : :G|\n",
      "| :x: : |\n",
      "|\u001b[43mS\u001b[0m: : : |\n",
      "+-------+\n",
      "\n",
      "+-------+\n",
      "| : : :G|\n",
      "| :x: : |\n",
      "|S:\u001b[43m_\u001b[0m: : |\n",
      "+-------+\n",
      "  (right)\n",
      "+-------+\n",
      "| : : :G|\n",
      "| :x: : |\n",
      "|S: :\u001b[43m_\u001b[0m: |\n",
      "+-------+\n",
      "  (right)\n",
      "+-------+\n",
      "| : : :G|\n",
      "| :x: : |\n",
      "|S:\u001b[43m_\u001b[0m: : |\n",
      "+-------+\n",
      "  (left)\n",
      "+-------+\n",
      "| : : :G|\n",
      "| :x: : |\n",
      "|S: :\u001b[43m_\u001b[0m: |\n",
      "+-------+\n",
      "  (right)\n",
      "+-------+\n",
      "| : : :G|\n",
      "| :x: : |\n",
      "|S:\u001b[43m_\u001b[0m: : |\n",
      "+-------+\n",
      "  (left)\n"
     ]
    }
   ],
   "source": [
    "dpi = np.random.randint(env.Na, size = (env.Ns,))\n",
    "env.render_policy(dpi)\n",
    "\n",
    "state = env.reset()\n",
    "env.render()\n",
    "for i in range(5):\n",
    "    action = dpi[state]\n",
    "    state, reward, done, _ = env.step(action)\n",
    "    env.render()\n",
    "    if done:\n",
    "      break"
   ]
  },
  {
   "cell_type": "markdown",
   "metadata": {
    "colab_type": "text",
    "id": "2ugaKsHsOX5G"
   },
   "source": [
    "## Exercice: Value Iteration\n",
    "1. Write a function applying the optimal Bellman operator on a provided Q function: $Q_1 = LQ_0, \\; Q_0\\in \\mathbb{R}^{S\\times A}$\n",
    "2. Write a function implementing Value Iteration (VI) with $\\infty$-norm stopping condition \n",
    "3. Evaluate the convergence of your estimate, i.e., plot the value $\\|V_n - V^\\star\\|_{\\infty}$\n",
    "4. Evaluate the convergence of your estimate, i.e., plot the value $\\|\\pi_n - \\pi^\\star\\|_{\\infty}$"
   ]
  },
  {
   "cell_type": "code",
   "execution_count": null,
   "metadata": {
    "colab": {},
    "colab_type": "code",
    "id": "AvlitQzHD7Fc"
   },
   "outputs": [],
   "source": [
    "# useful function\n",
    "def plot_infnorm(lst, star, name=\"V\"):\n",
    "  \n",
    "  lst = np.array(lst)\n",
    "  star = np.array(star)\n",
    "\n",
    "  # Compute inf norm\n",
    "  diff = np.absolute(lst - star).max(axis=1)\n",
    "  plt.figure()\n",
    "  plt.plot(diff)\n",
    "  plt.xlabel('Iteration')\n",
    "  plt.ylabel('Error')\n",
    "  plt.title(\"||{} - {}*||_inf\".format(name, name))"
   ]
  },
  {
   "cell_type": "code",
   "execution_count": null,
   "metadata": {
    "colab": {
     "base_uri": "https://localhost:8080/",
     "height": 794
    },
    "colab_type": "code",
    "id": "FKkDqSyBOX5G",
    "outputId": "61ac746a-6e12-4a09-c6b1-35696ad35840"
   },
   "outputs": [
    {
     "name": "stdout",
     "output_type": "stream",
     "text": [
      "+-------+\n",
      "|>:>:>:>|\n",
      "|^:>:>:^|\n",
      "|>:>:>:^|\n",
      "+-------+\n",
      "v (last): [-16.04439862 -14.0503196  -11.68934063  -9.60619184 -18.27806303\n",
      " -33.99466932 -13.99957344 -11.68342673 -19.80522424 -17.91711212\n",
      " -15.66694491 -13.69781517]\n",
      "v (star): [-16.14241424 -14.14833522 -11.78735625  -9.70420747 -18.37607865\n",
      " -34.09268495 -14.09758906 -11.78144235 -19.90323987 -18.01512775\n",
      " -15.76496054 -13.79583079]\n",
      "epsilon:  0.001\n",
      "|v - v_star|_inf:  0.09801563076499775\n"
     ]
    },
    {
     "data": {
      "image/png": "[encoded data removed]",
      "text/plain": [
       "<Figure size 432x288 with 1 Axes>"
      ]
     },
     "metadata": {
      "tags": []
     },
     "output_type": "display_data"
    },
    {
     "data": {
      "image/png": "[encoded data removed]",
      "text/plain": [
       "<Figure size 432x288 with 1 Axes>"
      ]
     },
     "metadata": {
      "tags": []
     },
     "output_type": "display_data"
    }
   ],
   "source": [
    "# Compute Value Iteration\n",
    "\n",
    "# Retrieve the environment MDP\n",
    "P = env.P\n",
    "R = env.R\n",
    "gamma = env.gamma\n",
    "epsilon = 1e-3\n",
    "\n",
    "# Prepare v, and storage\n",
    "v = np.zeros(env.Ns)\n",
    "v_all = []\n",
    "pi_all = []\n",
    "\n",
    "# iterate over the value\n",
    "while True:\n",
    "  \n",
    "  # Compute v_k\n",
    "  v, v_old = np.max(R + gamma * P.dot(v), axis=1), v\n",
    "  v_all.append(v)\n",
    "\n",
    "  # Esimate Intermediate policy\n",
    "  q = R + gamma * P.dot(v)\n",
    "  dpi = q.argmax(axis=1)\n",
    "\n",
    "  pi_all.append(dpi)\n",
    "\n",
    "  # stopping criterion \n",
    "  if np.absolute(v-v_old).max() < epsilon: \n",
    "    break\n",
    "\n",
    "# Plot optimal policy\n",
    "env.render_policy(dpi)\n",
    "\n",
    "# You need to evaluate V* here from your optimal policy\n",
    "# You have no guarantee that the last v-value is converge to the actual Vpi\n",
    "pi = sparsify_policy(dpi, Na=env.Na)\n",
    "Ppi = np.sum(P * np.expand_dims(pi, axis=-1), axis=1)\n",
    "Rpi = np.sum(R * pi, axis=1)\n",
    "\n",
    "v_star = np.linalg.inv( np.identity(env.Ns) - gamma*Ppi).dot(Rpi)\n",
    "print(\"v (last):\", v_all[-1])\n",
    "print(\"v (star):\", v_star)\n",
    "\n",
    "# The difference is not exactly epsilon. We here we are comparing V*-V while the algorithm we are comparing V_new - V_old\n",
    "print(\"epsilon: \", epsilon)\n",
    "print(\"|v - v_star|_inf: \", np.absolute(v_all[-1]-v_star).max())\n",
    "\n",
    "# The value function converge towards v* iteration after iteration\n",
    "plot_infnorm(v_all, v_star, name=\"V\")\n",
    "\n",
    "# If we estimate the intermediate policies, we observe that the optimal policy is obtained earlier in the process.\n",
    "# However, the value function has not yet converge. Thus ares still unaware that it is the optimal policty at iteration 4.\n",
    "plot_infnorm(pi_all, dpi, name=\"Pi\")"
   ]
  },
  {
   "cell_type": "markdown",
   "metadata": {
    "colab_type": "text",
    "id": "TDT4iyJnAPIE"
   },
   "source": [
    "## Exercice: Policy Iteration (Homework)\n",
    "1. Implement Policy iteration!\n",
    "2. Evaluate the convergence of your estimate, i.e., plot the value $\\|V_n - V^\\star\\|_{\\infty}$\n",
    "3. Evaluate the convergence of your estimate, i.e., plot the value $\\|\\pi_n - \\pi^\\star\\|_{\\infty}$"
   ]
  },
  {
   "cell_type": "code",
   "execution_count": null,
   "metadata": {
    "colab": {
     "base_uri": "https://localhost:8080/",
     "height": 675
    },
    "colab_type": "code",
    "id": "fpBCGnqNE7l1",
    "outputId": "b9e34161-536f-4ec8-f5a2-e87b5e045b85"
   },
   "outputs": [
    {
     "name": "stdout",
     "output_type": "stream",
     "text": [
      "+-------+\n",
      "|>:>:>:>|\n",
      "|^:>:>:^|\n",
      "|>:>:>:^|\n",
      "+-------+\n",
      "None\n"
     ]
    },
    {
     "data": {
      "image/png": "[encoded data removed]",
      "text/plain": [
       "<Figure size 432x288 with 1 Axes>"
      ]
     },
     "metadata": {
      "tags": []
     },
     "output_type": "display_data"
    },
    {
     "data": {
      "image/png": "[encoded data removed]",
      "text/plain": [
       "<Figure size 432x288 with 1 Axes>"
      ]
     },
     "metadata": {
      "tags": []
     },
     "output_type": "display_data"
    }
   ],
   "source": [
    "# Retrieve the environment MDP\n",
    "P = env.P\n",
    "R = env.R\n",
    "gamma = env.gamma\n",
    "epsilon = 5e-2\n",
    "v_all = []\n",
    "pi_all = []\n",
    "\n",
    "def policy_evaluation(env, policy, gamma=env.gamma, espilon=5e-2):\n",
    "  p_policy = np.sum(P* np.expand_dims(policy, axis=-1), axis=1)\n",
    "  r_policy = np.sum(R* policy, axis=1)\n",
    "\n",
    "  Vpi = np.linalg.inv(np.identity(env.Ns) - gamma * p_policy).dot(r_policy)\n",
    "  return Vpi\n",
    "\n",
    "def policy_improvement(env, V):\n",
    "  q = R + gamma * P @ V\n",
    "  return q.argmax(axis=1)\n",
    "\n",
    "def policy_iteration(env, gamma=env.gamma, epsilon=5e-2):\n",
    "  policy = np.zeros(shape=(env.Ns,), dtype=np.int32) + 2\n",
    "  while True:\n",
    "    V = policy_evaluation(env, sparsify_policy(policy, env.Na))\n",
    "    new_policy = policy_improvement(env, V)\n",
    "\n",
    "    if (policy == new_policy).all():\n",
    "      break\n",
    "\n",
    "    policy = copy.copy(new_policy)\n",
    "    v_all.append(V)\n",
    "    pi_all.append(new_policy)\n",
    "  return policy, V\n",
    "\n",
    "final_dpi, final_v = policy_iteration(env)\n",
    "\n",
    "plot_infnorm(v_all, final_v, name=\"V\")\n",
    "plot_infnorm(pi_all, final_dpi, name=\"Pi\")\n",
    "\n",
    "# plot value and policy \n",
    "print(env.render_policy(final_dpi))"
   ]
  },
  {
   "cell_type": "markdown",
   "metadata": {
    "colab_type": "text",
    "id": "WHrlauOwOX5L"
   },
   "source": [
    "## Exercice: Q learning\n",
    "Q learning is a model-free algorithm for estimating the optimal Q-function online.\n",
    "It is an off-policy algorithm since the samples are collected with a policy that is (potentially) not the one associated to the estimated Q-function.\n",
    "\n",
    "1. Implement Q learning with $\\epsilon$-greedy exploration.\n",
    "  - Plot the error in Q-functions over iterations\n",
    "  - Plot the cumulative sum of rewards"
   ]
  },
  {
   "cell_type": "code",
   "execution_count": null,
   "metadata": {
    "colab": {},
    "colab_type": "code",
    "id": "QCxJruBNOX5M"
   },
   "outputs": [],
   "source": [
    "# ---------------------------\n",
    "# Q-Learning\n",
    "# ---------------------------\n",
    "class QLearning:\n",
    "    \"\"\"\n",
    "    Q learning with epsilon-greedy exploration\n",
    "    \"\"\"\n",
    "    def __init__(self, env, gamma, learning_rate, epsilon, min_epsilon):\n",
    "        self.env = env\n",
    "        self.gamma = gamma\n",
    "        self.learning_rate = learning_rate\n",
    "        self.epsilon = epsilon\n",
    "        self.min_epsilon = min_epsilon\n",
    "        self.Q = np.zeros((env.Ns, env.Na))\n",
    "        self.Nsa = np.zeros((env.Ns, env.Na))\n",
    "    \n",
    "    def sample_action(self, state, greedy=False):\n",
    "      eps = self.epsilon/(np.sum(self.Nsa[state] + 1))\n",
    "      n = np.random.rand()\n",
    "      if n < eps and not greedy:\n",
    "        action = np.random.choice(env.Na)\n",
    "      else:\n",
    "        action = self.Q[state].argmax()\n",
    "      return action\n",
    "    \n",
    "    def update(self, state, action, next_state, reward, done):\n",
    "      lr = self.learning_rate / (self.Nsa[state][action] + 1)\n",
    "      if done:\n",
    "        self.Q[state][action] = self.Q[state][action] + (lr * (reward - self.Q[state][action]))\n",
    "      else:\n",
    "        self.Q[state][action] = self.Q[state][action] + (lr * (reward + (self.gamma * np.max(self.Q[next_state])) - self.Q[state][action]))\n",
    "      self.Nsa[state][action] += 1"
   ]
  },
  {
   "cell_type": "code",
   "execution_count": null,
   "metadata": {
    "colab": {
     "base_uri": "https://localhost:8080/",
     "height": 119
    },
    "colab_type": "code",
    "id": "jsmojgubLVL9",
    "outputId": "18a7cf49-ceb0-47e2-97d8-237b054f2959"
   },
   "outputs": [
    {
     "name": "stdout",
     "output_type": "stream",
     "text": [
      "+-------+\n",
      "|>:>:>:>|\n",
      "|^:^:>:^|\n",
      "|>:>:^:^|\n",
      "+-------+\n",
      "None\n"
     ]
    }
   ],
   "source": [
    "q_learning = QLearning(env, gamma=env.gamma, learning_rate=1, epsilon=0.6, min_epsilon=0.1)\n",
    "\n",
    "# Define storage and variable\n",
    "q_all = []\n",
    "r_all = []\n",
    "pi_all = []\n",
    "max_steps = int(5e4)\n",
    "\n",
    "\n",
    "# main algorithmic loop\n",
    "state = env.reset()\n",
    "for t in range(max_steps):\n",
    "  action = q_learning.sample_action(state, greedy=True)\n",
    "  next_state, reward, done, _ = env.step(action)\n",
    "  q_learning.update(state, action, next_state, reward, done)\n",
    "\n",
    "  # Store information \n",
    "  r_all.append(reward)\n",
    "  q_all.append(q_learning.Q)\n",
    "  pi_all.append(q_learning.Q.argmax(axis=1))\n",
    "  \n",
    "  state = next_state\n",
    "  if done:\n",
    "    state = env.reset()\n",
    "\n",
    "dpi = q_learning.Q.argmax(axis=1)\n",
    "print(env.render_policy(dpi))"
   ]
  },
  {
   "cell_type": "code",
   "execution_count": null,
   "metadata": {
    "colab": {
     "base_uri": "https://localhost:8080/",
     "height": 629
    },
    "colab_type": "code",
    "id": "ysm4Cq_pxj5T",
    "outputId": "aa768653-b907-4faf-bd91-6ee2d94a7996"
   },
   "outputs": [
    {
     "name": "stdout",
     "output_type": "stream",
     "text": [
      "+-------+\n",
      "| : : :G|\n",
      "| :x: : |\n",
      "|\u001b[43mS\u001b[0m: : : |\n",
      "+-------+\n",
      "\n",
      "+-------+\n",
      "| : : :G|\n",
      "| :x: : |\n",
      "|S:\u001b[43m_\u001b[0m: : |\n",
      "+-------+\n",
      "  (right)\n",
      "+-------+\n",
      "| : : :G|\n",
      "| :x: : |\n",
      "|S: :\u001b[43m_\u001b[0m: |\n",
      "+-------+\n",
      "  (right)\n",
      "+-------+\n",
      "| : : :G|\n",
      "| :x:\u001b[43m_\u001b[0m: |\n",
      "|S: : : |\n",
      "+-------+\n",
      "  (up)\n",
      "+-------+\n",
      "| : : :G|\n",
      "| :x: :\u001b[43m_\u001b[0m|\n",
      "|S: : : |\n",
      "+-------+\n",
      "  (right)\n",
      "+-------+\n",
      "| : : :\u001b[42mG\u001b[0m|\n",
      "| :x: : |\n",
      "|S: : : |\n",
      "+-------+\n",
      "  (up)\n"
     ]
    }
   ],
   "source": [
    "state = env.reset()\n",
    "env.render()\n",
    "for i in range(5):\n",
    "    action = q_learning.sample_action(state, greedy=True)\n",
    "    state, reward, done, _ = env.step(action)\n",
    "    env.render()"
   ]
  },
  {
   "cell_type": "code",
   "execution_count": null,
   "metadata": {
    "colab": {
     "base_uri": "https://localhost:8080/",
     "height": 221
    },
    "colab_type": "code",
    "id": "-QyNzQpLIpAv",
    "outputId": "4b5729f9-4938-4980-d99b-0f1f8a789f8d"
   },
   "outputs": [
    {
     "name": "stdout",
     "output_type": "stream",
     "text": [
      "[[  2.41147771  -4.6334      -2.99        -2.99      ]\n",
      " [  5.08260516 -21.8         -3.98        -2.        ]\n",
      " [  7.67973834  -3.98        -2.          -2.        ]\n",
      " [ 10.           0.           0.           0.        ]\n",
      " [ -8.6         -4.56806     -4.13758325  -1.04937339]\n",
      " [-20.66       -21.48005    -21.68205023 -15.18160378]\n",
      " [  5.11250039  -2.          -2.          -2.        ]\n",
      " [ -2.          -2.          -2.           7.69585365]\n",
      " [ -1.93719948  -5.13387101  -5.13387101  -5.02741622]\n",
      " [  0.39608867  -4.13758325  -3.863411   -11.9       ]\n",
      " [ -2.99        -2.99        -2.99         2.89851998]\n",
      " [ -2.99        -2.99        -2.99         5.41449785]]\n"
     ]
    }
   ],
   "source": [
    "print(q_learning.Q)"
   ]
  },
  {
   "cell_type": "code",
   "execution_count": null,
   "metadata": {
    "colab": {
     "base_uri": "https://localhost:8080/",
     "height": 295
    },
    "colab_type": "code",
    "id": "xViQ6kpzJfw9",
    "outputId": "5e82a530-0241-486e-c645-73102002c766"
   },
   "outputs": [
    {
     "data": {
      "image/png": "[encoded data removed]",
      "text/plain": [
       "<Figure size 432x288 with 1 Axes>"
      ]
     },
     "metadata": {
      "tags": []
     },
     "output_type": "display_data"
    }
   ],
   "source": [
    "pi = sparsify_policy(pi_all[-1], Na=env.Na)\n",
    "Ppi = np.sum(env.P * np.expand_dims(pi, axis=-1), axis=1)\n",
    "Rpi = np.sum(env.R * pi, axis=1)\n",
    "\n",
    "v_star = np.linalg.inv( np.identity(env.Ns) - gamma*Ppi).dot(Rpi)\n",
    "\n",
    "v_all = []\n",
    "for dpi_prev, q_prev in zip(pi_all, q_all):\n",
    "  pi_prev = sparsify_policy(dpi_prev, Na=env.Na)\n",
    "  v_prev = np.sum(pi_prev*q_prev, axis=1)\n",
    "  v_all.append(v_prev)\n",
    "\n",
    "plot_infnorm(v_all, v_star, name=\"V\")"
   ]
  },
  {
   "cell_type": "markdown",
   "metadata": {
    "colab_type": "text",
    "id": "59xsIjpIOX5P"
   },
   "source": [
    "## Exercice: SARSA (Homework)\n",
    "SARSA is another control algorithm. While Qlearning is off-policy, SARSA is on-policy.\n",
    "\n",
    "1. Implement SARSA with softmax (Gibbs) exploration and test the convergence to $Q^\\star$\n",
    "2. Plot the value $\\|V_n - V^\\star\\|_{\\infty}$"
   ]
  },
  {
   "cell_type": "code",
   "execution_count": null,
   "metadata": {
    "colab": {},
    "colab_type": "code",
    "id": "gySnHtrsOX5Q"
   },
   "outputs": [],
   "source": [
    "class SARSA:\n",
    "    \"\"\"\n",
    "    SARSA with deacreasing epsilon for exploration\n",
    "    \"\"\"\n",
    "    def __init__(self, env, gamma, learning_rate, epsilon):\n",
    "      self.env = env\n",
    "      self.gamma = gamma\n",
    "      self.learning_rate = learning_rate\n",
    "      self.epsilon = epsilon\n",
    "      self.Q = np.zeros((env.Ns, env.Na))\n",
    "      self.Nsa = np.zeros((env.Ns, env.Na))\n",
    "    \n",
    "    def sample_action(self, state, greedy=False):\n",
    "      eps = self.epsilon/(np.sum(self.Nsa[state] + 1))\n",
    "      n = np.random.rand()\n",
    "      if n < eps:\n",
    "        action = np.random.choice(env.Na)\n",
    "      else:\n",
    "        action = self.Q[state].argmax()\n",
    "      return action\n",
    "        \n",
    "    def update(self, state, action, next_state, next_action, reward):\n",
    "      lr = self.learning_rate / (self.Nsa[state][action] + 1)\n",
    "      self.Q[state][action] = self.Q[state][action] + (lr * (reward + (self.gamma * self.Q[next_state][next_action]) - self.Q[state][action]))\n",
    "      self.Nsa[state][action] += 1\n"
   ]
  },
  {
   "cell_type": "code",
   "execution_count": null,
   "metadata": {
    "colab": {
     "base_uri": "https://localhost:8080/",
     "height": 119
    },
    "colab_type": "code",
    "id": "Be0d4nOBOX5R",
    "outputId": "b53969fa-b4da-4bc8-bd95-ef0c5d3d562d"
   },
   "outputs": [
    {
     "name": "stdout",
     "output_type": "stream",
     "text": [
      "+-------+\n",
      "|>:>:>:>|\n",
      "|^:^:>:^|\n",
      "|^:>:^:^|\n",
      "+-------+\n",
      "None\n"
     ]
    }
   ],
   "source": [
    "sarsa = SARSA(env, gamma=env.gamma, learning_rate=1., epsilon=1.)\n",
    "# Define storage and variable\n",
    "q_all = []\n",
    "r_all = []\n",
    "pi_all = []\n",
    "max_steps = int(5e4)\n",
    "\n",
    "\n",
    "# main algorithmic loop\n",
    "state = env.reset()\n",
    "action = sarsa.sample_action(state, greedy=False)\n",
    "for t in range(max_steps):\n",
    "  next_state, reward, done, _ = env.step(action)\n",
    "  next_action = sarsa.sample_action(next_state, greedy=False)\n",
    "  sarsa.update(state, action, next_state, next_action, reward)\n",
    "\n",
    "  # Store information\n",
    "  r_all.append(reward)\n",
    "  q_all.append(sarsa.Q)\n",
    "  pi_all.append(sarsa.Q.argmax(axis=1))\n",
    "  \n",
    "  state = next_state\n",
    "  action = next_action\n",
    "  if done:\n",
    "    state = env.reset()\n",
    "    action = sarsa.sample_action(state, greedy=False)\n",
    "\n",
    "dpi = sarsa.Q.argmax(axis=1)\n",
    "print(env.render_policy(dpi))"
   ]
  },
  {
   "cell_type": "code",
   "execution_count": null,
   "metadata": {
    "colab": {
     "base_uri": "https://localhost:8080/",
     "height": 629
    },
    "colab_type": "code",
    "id": "CsyCo4h8sp8F",
    "outputId": "cc874a85-d172-4318-c591-fa9e56351841"
   },
   "outputs": [
    {
     "name": "stdout",
     "output_type": "stream",
     "text": [
      "+-------+\n",
      "| : : :G|\n",
      "| :x: : |\n",
      "|\u001b[43mS\u001b[0m: : : |\n",
      "+-------+\n",
      "\n",
      "+-------+\n",
      "| : : :G|\n",
      "| :x: : |\n",
      "|S:\u001b[43m_\u001b[0m: : |\n",
      "+-------+\n",
      "  (right)\n",
      "+-------+\n",
      "| : : :G|\n",
      "| :x: : |\n",
      "|S: :\u001b[43m_\u001b[0m: |\n",
      "+-------+\n",
      "  (right)\n",
      "+-------+\n",
      "| : : :G|\n",
      "| :x:\u001b[43m_\u001b[0m: |\n",
      "|S: : : |\n",
      "+-------+\n",
      "  (up)\n",
      "+-------+\n",
      "| : : :G|\n",
      "| :x: :\u001b[43m_\u001b[0m|\n",
      "|S: : : |\n",
      "+-------+\n",
      "  (right)\n",
      "+-------+\n",
      "| : : :\u001b[42mG\u001b[0m|\n",
      "| :x: : |\n",
      "|S: : : |\n",
      "+-------+\n",
      "  (up)\n"
     ]
    }
   ],
   "source": [
    "state = env.reset()\n",
    "env.render()\n",
    "for i in range(5):\n",
    "    action = sarsa.sample_action(state, greedy=True)\n",
    "    state, reward, done, _ = env.step(action)\n",
    "    env.render()"
   ]
  }
 ],
 "metadata": {
  "colab": {
   "collapsed_sections": [],
   "name": "Alain AIMS_2020 Exercice.ipynb",
   "provenance": [],
   "toc_visible": true
  },
  "kernelspec": {
   "display_name": "Python 3",
   "language": "python",
   "name": "python3"
  },
  "language_info": {
   "codemirror_mode": {
    "name": "ipython",
    "version": 3
   },
   "file_extension": ".py",
   "mimetype": "text/x-python",
   "name": "python",
   "nbconvert_exporter": "python",
   "pygments_lexer": "ipython3",
   "version": "3.7.5"
  }
 },
 "nbformat": 4,
 "nbformat_minor": 4
}
